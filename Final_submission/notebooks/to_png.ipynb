{
 "cells": [
  {
   "cell_type": "code",
   "execution_count": null,
   "id": "3cadeea6-897f-4cd9-8b5f-2b9b9c334129",
   "metadata": {},
   "outputs": [],
   "source": []
  },
  {
   "cell_type": "code",
   "execution_count": 2,
   "id": "1a2a8ffa-4268-4191-89ae-dafe878e450c",
   "metadata": {},
   "outputs": [
    {
     "name": "stdout",
     "output_type": "stream",
     "text": [
      "Images saved to ./png/\n"
     ]
    }
   ],
   "source": [
    "import nibabel as nib\n",
    "import numpy as np\n",
    "from PIL import Image\n",
    "import os\n",
    "\n",
    "def nii_to_png(nii_file_path, output_dir, axis=2, name='file'):\n",
    "    \"\"\"\n",
    "    Convert a .nii.gz file to PNG images.\n",
    "\n",
    "    Parameters:\n",
    "        nii_file_path (str): Path to the .nii.gz file.\n",
    "        output_dir (str): Directory to save the PNG images.\n",
    "        axis (int): Axis along which to extract slices (0, 1, or 2).\n",
    "    \"\"\"\n",
    "    # Load the .nii.gz file\n",
    "    nii_img = nib.load(nii_file_path)\n",
    "    data = nii_img.get_fdata()\n",
    "\n",
    "    # Ensure output directory exists\n",
    "    os.makedirs(output_dir, exist_ok=True)\n",
    "\n",
    "    # Normalize data to 0-255 for PNG format\n",
    "    data = (data - np.min(data)) / (np.max(data) - np.min(data)) * 255\n",
    "    data = data.astype(np.uint8)\n",
    "    name=name.rstrip('.nii.gz.')\n",
    "    # Loop through slices along the specified axis\n",
    "    for i in range(data.shape[axis]):\n",
    "        if axis == 0:\n",
    "            slice_img = data[i, :, :]\n",
    "        elif axis == 1:\n",
    "            slice_img = data[:, i, :]\n",
    "        else:  # axis == 2\n",
    "            slice_img = data[:, :, i]\n",
    "\n",
    "        # Convert slice to a PIL Image\n",
    "        img = Image.fromarray(slice_img)\n",
    "        # Save the image as PNG\n",
    "        img.save(os.path.join(output_dir, f\"{name}_{i:03d}_fullmask.png\"))\n",
    "    #print(slice_img.max())\n",
    "\n",
    "    print(f\"Images saved to {output_dir}\")\n",
    "    return(slice_img)\n",
    "# Example usage\n",
    "nii_file_path = '/ACDC/raw/labelsTr/patient001_frame01.nii.gz'\n",
    "output_dir = './png/'\n",
    "\n",
    "\n",
    "\n",
    "\n",
    "asd=nii_to_png(nii_file_path, output_dir, axis=2)\n"
   ]
  },
  {
   "cell_type": "code",
   "execution_count": 2,
   "id": "88ce66a2-b70c-4daf-a62b-cd4ada3a615c",
   "metadata": {},
   "outputs": [
    {
     "data": {
      "text/plain": [
       "array([  0, 170, 255], dtype=uint8)"
      ]
     },
     "execution_count": 2,
     "metadata": {},
     "output_type": "execute_result"
    }
   ],
   "source": [
    "import matplotlib.pyplot as plt\n",
    "np.unique(asd)"
   ]
  },
  {
   "cell_type": "code",
   "execution_count": 4,
   "id": "dffdc317-7c1f-4220-b580-a096bcc8cf73",
   "metadata": {},
   "outputs": [],
   "source": [
    "train_img=[f for f in os.listdir('/data/ACDC/raw/imagesTr/') if f.endswith('.nii.gz')]\n",
    "train_mask=[f for f in os.listdir('/data/ACDC/raw/labelsTr/') if f.endswith('.nii.gz')]\n",
    "test_img= [f for f in os.listdir('/data/ACDC/raw/imagesTs/') if f.endswith('.nii.gz')]\n",
    "test_mask=[f for f in os.listdir('/data/ACDC/raw/labelsTs/') if f.endswith('.nii.gz')]"
   ]
  },
  {
   "cell_type": "code",
   "execution_count": 5,
   "id": "c8ee73d4-55ed-424b-b60a-7e95939ee30d",
   "metadata": {},
   "outputs": [
    {
     "data": {
      "text/plain": [
       "'patient103_frame01'"
      ]
     },
     "execution_count": 5,
     "metadata": {},
     "output_type": "execute_result"
    }
   ],
   "source": [
    "test_mask[1].rstrip('.nii.gz')"
   ]
  },
  {
   "cell_type": "code",
   "execution_count": 7,
   "id": "17b3f718-f3bd-4e3e-896c-4942c17c3a68",
   "metadata": {},
   "outputs": [
    {
     "name": "stdout",
     "output_type": "stream",
     "text": [
      "Images saved to ./png/masksTs\n",
      "patient124_frame07.nii.gz\n",
      "Images saved to ./png/masksTs\n",
      "patient103_frame01.nii.gz\n",
      "Images saved to ./png/masksTs\n",
      "patient150_frame12.nii.gz\n",
      "Images saved to ./png/masksTs\n",
      "patient136_frame01.nii.gz\n",
      "Images saved to ./png/masksTs\n",
      "patient137_frame01.nii.gz\n",
      "Images saved to ./png/masksTs\n",
      "patient147_frame09.nii.gz\n",
      "Images saved to ./png/masksTs\n",
      "patient147_frame01.nii.gz\n",
      "Images saved to ./png/masksTs\n",
      "patient109_frame01.nii.gz\n",
      "Images saved to ./png/masksTs\n",
      "patient141_frame11.nii.gz\n",
      "Images saved to ./png/masksTs\n",
      "patient143_frame01.nii.gz\n",
      "Images saved to ./png/masksTs\n",
      "patient103_frame11.nii.gz\n",
      "Images saved to ./png/masksTs\n",
      "patient120_frame01.nii.gz\n",
      "Images saved to ./png/masksTs\n",
      "patient142_frame12.nii.gz\n",
      "Images saved to ./png/masksTs\n",
      "patient107_frame10.nii.gz\n",
      "Images saved to ./png/masksTs\n",
      "patient145_frame01.nii.gz\n",
      "Images saved to ./png/masksTs\n",
      "patient146_frame10.nii.gz\n",
      "Images saved to ./png/masksTs\n",
      "patient141_frame01.nii.gz\n",
      "Images saved to ./png/masksTs\n",
      "patient114_frame01.nii.gz\n",
      "Images saved to ./png/masksTs\n",
      "patient142_frame01.nii.gz\n",
      "Images saved to ./png/masksTs\n",
      "patient118_frame01.nii.gz\n",
      "Images saved to ./png/masksTs\n",
      "patient110_frame01.nii.gz\n",
      "Images saved to ./png/masksTs\n",
      "patient129_frame08.nii.gz\n",
      "Images saved to ./png/masksTs\n",
      "patient124_frame01.nii.gz\n",
      "Images saved to ./png/masksTs\n",
      "patient112_frame12.nii.gz\n",
      "Images saved to ./png/masksTs\n",
      "patient136_frame12.nii.gz\n",
      "Images saved to ./png/masksTs\n",
      "patient122_frame06.nii.gz\n",
      "Images saved to ./png/masksTs\n",
      "patient123_frame11.nii.gz\n",
      "Images saved to ./png/masksTs\n",
      "patient120_frame08.nii.gz\n",
      "Images saved to ./png/masksTs\n",
      "patient102_frame13.nii.gz\n",
      "Images saved to ./png/masksTs\n",
      "patient134_frame15.nii.gz\n",
      "Images saved to ./png/masksTs\n",
      "patient102_frame01.nii.gz\n",
      "Images saved to ./png/masksTs\n",
      "patient129_frame01.nii.gz\n",
      "Images saved to ./png/masksTs\n",
      "patient148_frame01.nii.gz\n",
      "Images saved to ./png/masksTs\n",
      "patient139_frame08.nii.gz\n",
      "Images saved to ./png/masksTs\n",
      "patient145_frame13.nii.gz\n",
      "Images saved to ./png/masksTs\n",
      "patient135_frame01.nii.gz\n",
      "Images saved to ./png/masksTs\n",
      "patient115_frame13.nii.gz\n",
      "Images saved to ./png/masksTs\n",
      "patient150_frame01.nii.gz\n",
      "Images saved to ./png/masksTs\n",
      "patient116_frame09.nii.gz\n",
      "Images saved to ./png/masksTs\n",
      "patient143_frame12.nii.gz\n",
      "Images saved to ./png/masksTs\n",
      "patient121_frame10.nii.gz\n",
      "Images saved to ./png/masksTs\n",
      "patient126_frame01.nii.gz\n",
      "Images saved to ./png/masksTs\n",
      "patient138_frame10.nii.gz\n",
      "Images saved to ./png/masksTs\n",
      "patient117_frame13.nii.gz\n",
      "Images saved to ./png/masksTs\n",
      "patient105_frame01.nii.gz\n",
      "Images saved to ./png/masksTs\n",
      "patient104_frame11.nii.gz\n",
      "Images saved to ./png/masksTs\n",
      "patient132_frame01.nii.gz\n",
      "Images saved to ./png/masksTs\n",
      "patient133_frame10.nii.gz\n",
      "Images saved to ./png/masksTs\n",
      "patient139_frame01.nii.gz\n",
      "Images saved to ./png/masksTs\n",
      "patient107_frame01.nii.gz\n",
      "Images saved to ./png/masksTs\n",
      "patient116_frame01.nii.gz\n",
      "Images saved to ./png/masksTs\n",
      "patient140_frame01.nii.gz\n",
      "Images saved to ./png/masksTs\n",
      "patient128_frame01.nii.gz\n",
      "Images saved to ./png/masksTs\n",
      "patient108_frame01.nii.gz\n",
      "Images saved to ./png/masksTs\n",
      "patient131_frame09.nii.gz\n",
      "Images saved to ./png/masksTs\n",
      "patient113_frame08.nii.gz\n",
      "Images saved to ./png/masksTs\n",
      "patient135_frame10.nii.gz\n",
      "Images saved to ./png/masksTs\n",
      "patient146_frame01.nii.gz\n",
      "Images saved to ./png/masksTs\n",
      "patient125_frame07.nii.gz\n",
      "Images saved to ./png/masksTs\n",
      "patient144_frame01.nii.gz\n",
      "Images saved to ./png/masksTs\n",
      "patient101_frame14.nii.gz\n",
      "Images saved to ./png/masksTs\n",
      "patient149_frame12.nii.gz\n",
      "Images saved to ./png/masksTs\n",
      "patient111_frame01.nii.gz\n",
      "Images saved to ./png/masksTs\n",
      "patient137_frame11.nii.gz\n",
      "Images saved to ./png/masksTs\n",
      "patient114_frame11.nii.gz\n",
      "Images saved to ./png/masksTs\n",
      "patient109_frame10.nii.gz\n",
      "Images saved to ./png/masksTs\n",
      "patient123_frame01.nii.gz\n",
      "Images saved to ./png/masksTs\n",
      "patient138_frame01.nii.gz\n",
      "Images saved to ./png/masksTs\n",
      "patient108_frame09.nii.gz\n",
      "Images saved to ./png/masksTs\n",
      "patient117_frame01.nii.gz\n",
      "Images saved to ./png/masksTs\n",
      "patient111_frame07.nii.gz\n",
      "Images saved to ./png/masksTs\n",
      "patient104_frame01.nii.gz\n",
      "Images saved to ./png/masksTs\n",
      "patient125_frame01.nii.gz\n",
      "Images saved to ./png/masksTs\n",
      "patient106_frame13.nii.gz\n",
      "Images saved to ./png/masksTs\n",
      "patient112_frame01.nii.gz\n",
      "Images saved to ./png/masksTs\n",
      "patient119_frame01.nii.gz\n",
      "Images saved to ./png/masksTs\n",
      "patient134_frame01.nii.gz\n",
      "Images saved to ./png/masksTs\n",
      "patient140_frame09.nii.gz\n",
      "Images saved to ./png/masksTs\n",
      "patient130_frame01.nii.gz\n",
      "Images saved to ./png/masksTs\n",
      "patient128_frame11.nii.gz\n",
      "Images saved to ./png/masksTs\n",
      "patient101_frame01.nii.gz\n",
      "Images saved to ./png/masksTs\n",
      "patient106_frame01.nii.gz\n",
      "Images saved to ./png/masksTs\n",
      "patient127_frame01.nii.gz\n",
      "Images saved to ./png/masksTs\n",
      "patient119_frame09.nii.gz\n",
      "Images saved to ./png/masksTs\n",
      "patient110_frame11.nii.gz\n",
      "Images saved to ./png/masksTs\n",
      "patient118_frame10.nii.gz\n",
      "Images saved to ./png/masksTs\n",
      "patient115_frame01.nii.gz\n",
      "Images saved to ./png/masksTs\n",
      "patient126_frame07.nii.gz\n",
      "Images saved to ./png/masksTs\n",
      "patient122_frame01.nii.gz\n",
      "Images saved to ./png/masksTs\n",
      "patient105_frame10.nii.gz\n",
      "Images saved to ./png/masksTs\n",
      "patient144_frame09.nii.gz\n",
      "Images saved to ./png/masksTs\n",
      "patient113_frame01.nii.gz\n",
      "Images saved to ./png/masksTs\n",
      "patient148_frame10.nii.gz\n",
      "Images saved to ./png/masksTs\n",
      "patient132_frame15.nii.gz\n",
      "Images saved to ./png/masksTs\n",
      "patient121_frame01.nii.gz\n",
      "Images saved to ./png/masksTs\n",
      "patient131_frame01.nii.gz\n",
      "Images saved to ./png/masksTs\n",
      "patient130_frame11.nii.gz\n",
      "Images saved to ./png/masksTs\n",
      "patient127_frame07.nii.gz\n",
      "Images saved to ./png/masksTs\n",
      "patient133_frame01.nii.gz\n",
      "Images saved to ./png/masksTs\n",
      "patient149_frame01.nii.gz\n"
     ]
    }
   ],
   "source": [
    "for file in test_mask:\n",
    "    nii_file_path = '/data/ACDC/raw/labelsTs/'+str(file)\n",
    "    output_dir = \"./png/masksTs\"\n",
    "    nii_to_png(nii_file_path, output_dir, axis=2,name=file)\n",
    "\n",
    "    print(file)"
   ]
  },
  {
   "cell_type": "code",
   "execution_count": 1,
   "id": "a05aaf61-85b3-472d-b2d6-4efa464814c6",
   "metadata": {},
   "outputs": [
    {
     "name": "stdout",
     "output_type": "stream",
     "text": [
      "Masks saved to ./png\n"
     ]
    }
   ],
   "source": [
    "import nibabel as nib\n",
    "import numpy as np\n",
    "from PIL import Image\n",
    "import os\n",
    "\n",
    "def save_mask_as_png(mask_data, output_path, color_map):\n",
    "    \"\"\"\n",
    "    Save a binary mask as a PNG image with a specific color.\n",
    "    \n",
    "    Parameters:\n",
    "        mask_data (np.ndarray): The binary mask data (0s and 1s).\n",
    "        output_path (str): Path where the PNG image will be saved.\n",
    "        color_map (tuple): The RGB color to apply to the mask.\n",
    "    \"\"\"\n",
    "    # Create an empty image with 3 channels (RGB)\n",
    "    mask_img = np.zeros((mask_data.shape[0], mask_data.shape[1], 3), dtype=np.uint8)\n",
    "    \n",
    "    # Apply the color to the mask area\n",
    "    mask_img[mask_data == 1] = color_map\n",
    "\n",
    "    # Convert to a PIL image and save\n",
    "    img = Image.fromarray(mask_img)\n",
    "    img.save(output_path)\n",
    "\n",
    "def nii_to_png(nii_file_path, output_dir, axis=2, name='file'):\n",
    "    \"\"\"\n",
    "    Convert a .nii.gz file to PNG images with separate masks for different classes.\n",
    "    \n",
    "    Parameters:\n",
    "        nii_file_path (str): Path to the .nii.gz file.\n",
    "        output_dir (str): Directory to save the PNG images.\n",
    "        axis (int): Axis along which to extract slices (0, 1, or 2).\n",
    "    \"\"\"\n",
    "    # Load the .nii.gz file\n",
    "    nii_img = nib.load(nii_file_path)\n",
    "    data = nii_img.get_fdata()\n",
    "\n",
    "    # Ensure output directory exists\n",
    "    os.makedirs(output_dir, exist_ok=True)\n",
    "\n",
    "    # Normalize data to 0-255 for PNG format\n",
    "    data = (data - np.min(data)) / (np.max(data) - np.min(data)) * 255\n",
    "    data = data.astype(np.uint8)\n",
    "    name=name.rstrip('.nii.gz.')\n",
    "\n",
    "    # Loop through slices along the specified axis\n",
    "    for i in range(data.shape[axis]):\n",
    "        if axis == 0:\n",
    "            slice_img = data[i, :, :]\n",
    "        elif axis == 1:\n",
    "            slice_img = data[:, i, :]\n",
    "        else:  # axis == 2\n",
    "            slice_img = data[:, :, i]\n",
    "\n",
    "        # Here you would need to define the mask conditions\n",
    "        # For example, let's assume:\n",
    "        # - Mask 1 is for white (255)\n",
    "        # - Mask 2 is for grey (170)\n",
    "        # - Mask 3 is for dark grey (85)\n",
    "        \n",
    "        # Create three separate masks\n",
    "        mask1 = (slice_img == 255).astype(np.uint8)  # White mask\n",
    "        mask2 = (slice_img == 170).astype(np.uint8)  # Grey mask\n",
    "        mask3 = (slice_img == 85).astype(np.uint8)   # Dark grey mask\n",
    "\n",
    "        # Define color mappings\n",
    "        white_color = (255, 255, 255)  # White\n",
    "        #grey_color = (169, 169, 169)  # Grey\n",
    "        #dark_grey_color = (169, 169, 169)  # Dark grey (you can adjust color)\n",
    "\n",
    "        # Save each mask as a PNG\n",
    "        save_mask_as_png(mask1, os.path.join(output_dir, f\"{name}_{i:03d}_mask1.png\"), white_color)\n",
    "        save_mask_as_png(mask2, os.path.join(output_dir, f\"{name}_{i:03d}_mask2.png\"), white_color)\n",
    "        save_mask_as_png(mask3, os.path.join(output_dir, f\"{name}_{i:03d}_mask3.png\"), white_color)\n",
    "\n",
    "    print(f\"Masks saved to {output_dir}\")\n",
    "\n",
    "# Example usage\n",
    "nii_file_path = '/data/ACDC/raw/labelsTs/patient150_frame01.nii.gz'\n",
    "output_dir = \"./png\"\n",
    "nii_to_png(nii_file_path, output_dir, axis=2)\n"
   ]
  },
  {
   "cell_type": "code",
   "execution_count": 5,
   "id": "f84d40af-3116-4a7f-871a-b2b84f2cc44b",
   "metadata": {},
   "outputs": [
    {
     "name": "stdout",
     "output_type": "stream",
     "text": [
      "Masks saved to ./png/masksTs\n",
      "patient124_frame07.nii.gz\n",
      "Masks saved to ./png/masksTs\n",
      "patient103_frame01.nii.gz\n",
      "Masks saved to ./png/masksTs\n",
      "patient150_frame12.nii.gz\n",
      "Masks saved to ./png/masksTs\n",
      "patient136_frame01.nii.gz\n",
      "Masks saved to ./png/masksTs\n",
      "patient137_frame01.nii.gz\n",
      "Masks saved to ./png/masksTs\n",
      "patient147_frame09.nii.gz\n",
      "Masks saved to ./png/masksTs\n",
      "patient147_frame01.nii.gz\n",
      "Masks saved to ./png/masksTs\n",
      "patient109_frame01.nii.gz\n",
      "Masks saved to ./png/masksTs\n",
      "patient141_frame11.nii.gz\n",
      "Masks saved to ./png/masksTs\n",
      "patient143_frame01.nii.gz\n",
      "Masks saved to ./png/masksTs\n",
      "patient103_frame11.nii.gz\n",
      "Masks saved to ./png/masksTs\n",
      "patient120_frame01.nii.gz\n",
      "Masks saved to ./png/masksTs\n",
      "patient142_frame12.nii.gz\n",
      "Masks saved to ./png/masksTs\n",
      "patient107_frame10.nii.gz\n",
      "Masks saved to ./png/masksTs\n",
      "patient145_frame01.nii.gz\n",
      "Masks saved to ./png/masksTs\n",
      "patient146_frame10.nii.gz\n",
      "Masks saved to ./png/masksTs\n",
      "patient141_frame01.nii.gz\n",
      "Masks saved to ./png/masksTs\n",
      "patient114_frame01.nii.gz\n",
      "Masks saved to ./png/masksTs\n",
      "patient142_frame01.nii.gz\n",
      "Masks saved to ./png/masksTs\n",
      "patient118_frame01.nii.gz\n",
      "Masks saved to ./png/masksTs\n",
      "patient110_frame01.nii.gz\n",
      "Masks saved to ./png/masksTs\n",
      "patient129_frame08.nii.gz\n",
      "Masks saved to ./png/masksTs\n",
      "patient124_frame01.nii.gz\n",
      "Masks saved to ./png/masksTs\n",
      "patient112_frame12.nii.gz\n",
      "Masks saved to ./png/masksTs\n",
      "patient136_frame12.nii.gz\n",
      "Masks saved to ./png/masksTs\n",
      "patient122_frame06.nii.gz\n",
      "Masks saved to ./png/masksTs\n",
      "patient123_frame11.nii.gz\n",
      "Masks saved to ./png/masksTs\n",
      "patient120_frame08.nii.gz\n",
      "Masks saved to ./png/masksTs\n",
      "patient102_frame13.nii.gz\n",
      "Masks saved to ./png/masksTs\n",
      "patient134_frame15.nii.gz\n",
      "Masks saved to ./png/masksTs\n",
      "patient102_frame01.nii.gz\n",
      "Masks saved to ./png/masksTs\n",
      "patient129_frame01.nii.gz\n",
      "Masks saved to ./png/masksTs\n",
      "patient148_frame01.nii.gz\n",
      "Masks saved to ./png/masksTs\n",
      "patient139_frame08.nii.gz\n",
      "Masks saved to ./png/masksTs\n",
      "patient145_frame13.nii.gz\n",
      "Masks saved to ./png/masksTs\n",
      "patient135_frame01.nii.gz\n",
      "Masks saved to ./png/masksTs\n",
      "patient115_frame13.nii.gz\n",
      "Masks saved to ./png/masksTs\n",
      "patient150_frame01.nii.gz\n",
      "Masks saved to ./png/masksTs\n",
      "patient116_frame09.nii.gz\n",
      "Masks saved to ./png/masksTs\n",
      "patient143_frame12.nii.gz\n",
      "Masks saved to ./png/masksTs\n",
      "patient121_frame10.nii.gz\n",
      "Masks saved to ./png/masksTs\n",
      "patient126_frame01.nii.gz\n",
      "Masks saved to ./png/masksTs\n",
      "patient138_frame10.nii.gz\n",
      "Masks saved to ./png/masksTs\n",
      "patient117_frame13.nii.gz\n",
      "Masks saved to ./png/masksTs\n",
      "patient105_frame01.nii.gz\n",
      "Masks saved to ./png/masksTs\n",
      "patient104_frame11.nii.gz\n",
      "Masks saved to ./png/masksTs\n",
      "patient132_frame01.nii.gz\n",
      "Masks saved to ./png/masksTs\n",
      "patient133_frame10.nii.gz\n",
      "Masks saved to ./png/masksTs\n",
      "patient139_frame01.nii.gz\n",
      "Masks saved to ./png/masksTs\n",
      "patient107_frame01.nii.gz\n",
      "Masks saved to ./png/masksTs\n",
      "patient116_frame01.nii.gz\n",
      "Masks saved to ./png/masksTs\n",
      "patient140_frame01.nii.gz\n",
      "Masks saved to ./png/masksTs\n",
      "patient128_frame01.nii.gz\n",
      "Masks saved to ./png/masksTs\n",
      "patient108_frame01.nii.gz\n",
      "Masks saved to ./png/masksTs\n",
      "patient131_frame09.nii.gz\n",
      "Masks saved to ./png/masksTs\n",
      "patient113_frame08.nii.gz\n",
      "Masks saved to ./png/masksTs\n",
      "patient135_frame10.nii.gz\n",
      "Masks saved to ./png/masksTs\n",
      "patient146_frame01.nii.gz\n",
      "Masks saved to ./png/masksTs\n",
      "patient125_frame07.nii.gz\n",
      "Masks saved to ./png/masksTs\n",
      "patient144_frame01.nii.gz\n",
      "Masks saved to ./png/masksTs\n",
      "patient101_frame14.nii.gz\n",
      "Masks saved to ./png/masksTs\n",
      "patient149_frame12.nii.gz\n",
      "Masks saved to ./png/masksTs\n",
      "patient111_frame01.nii.gz\n",
      "Masks saved to ./png/masksTs\n",
      "patient137_frame11.nii.gz\n",
      "Masks saved to ./png/masksTs\n",
      "patient114_frame11.nii.gz\n",
      "Masks saved to ./png/masksTs\n",
      "patient109_frame10.nii.gz\n",
      "Masks saved to ./png/masksTs\n",
      "patient123_frame01.nii.gz\n",
      "Masks saved to ./png/masksTs\n",
      "patient138_frame01.nii.gz\n",
      "Masks saved to ./png/masksTs\n",
      "patient108_frame09.nii.gz\n",
      "Masks saved to ./png/masksTs\n",
      "patient117_frame01.nii.gz\n",
      "Masks saved to ./png/masksTs\n",
      "patient111_frame07.nii.gz\n",
      "Masks saved to ./png/masksTs\n",
      "patient104_frame01.nii.gz\n",
      "Masks saved to ./png/masksTs\n",
      "patient125_frame01.nii.gz\n",
      "Masks saved to ./png/masksTs\n",
      "patient106_frame13.nii.gz\n",
      "Masks saved to ./png/masksTs\n",
      "patient112_frame01.nii.gz\n",
      "Masks saved to ./png/masksTs\n",
      "patient119_frame01.nii.gz\n",
      "Masks saved to ./png/masksTs\n",
      "patient134_frame01.nii.gz\n",
      "Masks saved to ./png/masksTs\n",
      "patient140_frame09.nii.gz\n",
      "Masks saved to ./png/masksTs\n",
      "patient130_frame01.nii.gz\n",
      "Masks saved to ./png/masksTs\n",
      "patient128_frame11.nii.gz\n",
      "Masks saved to ./png/masksTs\n",
      "patient101_frame01.nii.gz\n",
      "Masks saved to ./png/masksTs\n",
      "patient106_frame01.nii.gz\n",
      "Masks saved to ./png/masksTs\n",
      "patient127_frame01.nii.gz\n",
      "Masks saved to ./png/masksTs\n",
      "patient119_frame09.nii.gz\n",
      "Masks saved to ./png/masksTs\n",
      "patient110_frame11.nii.gz\n",
      "Masks saved to ./png/masksTs\n",
      "patient118_frame10.nii.gz\n",
      "Masks saved to ./png/masksTs\n",
      "patient115_frame01.nii.gz\n",
      "Masks saved to ./png/masksTs\n",
      "patient126_frame07.nii.gz\n",
      "Masks saved to ./png/masksTs\n",
      "patient122_frame01.nii.gz\n",
      "Masks saved to ./png/masksTs\n",
      "patient105_frame10.nii.gz\n",
      "Masks saved to ./png/masksTs\n",
      "patient144_frame09.nii.gz\n",
      "Masks saved to ./png/masksTs\n",
      "patient113_frame01.nii.gz\n",
      "Masks saved to ./png/masksTs\n",
      "patient148_frame10.nii.gz\n",
      "Masks saved to ./png/masksTs\n",
      "patient132_frame15.nii.gz\n",
      "Masks saved to ./png/masksTs\n",
      "patient121_frame01.nii.gz\n",
      "Masks saved to ./png/masksTs\n",
      "patient131_frame01.nii.gz\n",
      "Masks saved to ./png/masksTs\n",
      "patient130_frame11.nii.gz\n",
      "Masks saved to ./png/masksTs\n",
      "patient127_frame07.nii.gz\n",
      "Masks saved to ./png/masksTs\n",
      "patient133_frame01.nii.gz\n",
      "Masks saved to ./png/masksTs\n",
      "patient149_frame01.nii.gz\n"
     ]
    }
   ],
   "source": [
    "for file in test_mask:\n",
    "    nii_file_path = '/data/ACDC/raw/labelsTs/'+str(file)\n",
    "    output_dir = \"./png/masksTs\"\n",
    "    nii_to_png(nii_file_path, output_dir, axis=2,name=file)\n",
    "\n",
    "    print(file)"
   ]
  },
  {
   "cell_type": "code",
   "execution_count": 5,
   "id": "dbc7d3c3-992c-49f0-a53e-048ab4d8ba8e",
   "metadata": {},
   "outputs": [],
   "source": [
    "img=nib.load('/data/ACDC/raw/labelsTs/patient149_frame01.nii.gz')"
   ]
  },
  {
   "cell_type": "code",
   "execution_count": 68,
   "id": "fbd6e8e4-f26c-4e39-8052-3f3d694bb5de",
   "metadata": {},
   "outputs": [],
   "source": [
    "data=img.header"
   ]
  },
  {
   "cell_type": "code",
   "execution_count": 69,
   "id": "99a4899a-90f0-41c0-8efe-2db62965a857",
   "metadata": {},
   "outputs": [
    {
     "data": {
      "text/plain": [
       "(1.40625, 1.40625, 10.0)"
      ]
     },
     "execution_count": 69,
     "metadata": {},
     "output_type": "execute_result"
    }
   ],
   "source": [
    "data.get_zooms() \n"
   ]
  },
  {
   "cell_type": "code",
   "execution_count": 70,
   "id": "5e5c4922-b14b-4cb9-bd90-02be93d7b316",
   "metadata": {},
   "outputs": [
    {
     "data": {
      "text/plain": [
       "('mm', 'sec')"
      ]
     },
     "execution_count": 70,
     "metadata": {},
     "output_type": "execute_result"
    }
   ],
   "source": [
    "\n",
    "data.get_xyzt_units()\n"
   ]
  },
  {
   "cell_type": "code",
   "execution_count": 71,
   "id": "9f1278e4-9707-4ef4-b699-2e63bc2edbaf",
   "metadata": {},
   "outputs": [
    {
     "name": "stdout",
     "output_type": "stream",
     "text": [
      "(121, 121, 10)\n"
     ]
    }
   ],
   "source": [
    "img_data = img.get_fdata()\n",
    "print(img_data.shape)\n",
    "\n",
    "img_data.shape\n",
    "mid_slice_x=img_data[:,:,1]"
   ]
  },
  {
   "cell_type": "code",
   "execution_count": 72,
   "id": "69d20b07-aa32-404c-bb1b-577cfaa764b5",
   "metadata": {},
   "outputs": [
    {
     "data": {
      "text/plain": [
       "<matplotlib.image.AxesImage at 0x7a6178bc8620>"
      ]
     },
     "execution_count": 72,
     "metadata": {},
     "output_type": "execute_result"
    },
    {
     "data": {
      "image/png": "[encoded data removed]",
      "text/plain": [
       "<Figure size 640x480 with 1 Axes>"
      ]
     },
     "metadata": {},
     "output_type": "display_data"
    }
   ],
   "source": [
    "plt.imshow(mid_slice_x.T, cmap='gray', origin='lower')\n"
   ]
  },
  {
   "cell_type": "code",
   "execution_count": 73,
   "id": "3fb70877-5f80-4af2-b0dd-9bee20a902e4",
   "metadata": {},
   "outputs": [],
   "source": [
    "img=nib.load('/data/ACDC/raw/imagesTs/patient150_frame12_0000.nii.gz')"
   ]
  },
  {
   "cell_type": "code",
   "execution_count": 74,
   "id": "9d9e30fd-aa84-4b44-92ed-b859f2a79f0a",
   "metadata": {},
   "outputs": [
    {
     "name": "stdout",
     "output_type": "stream",
     "text": [
      "(87, 87, 8)\n"
     ]
    }
   ],
   "source": [
    "img_data = img.get_fdata()\n",
    "print(img_data.shape)\n",
    "\n",
    "img_data.shape\n",
    "mid_slice_x=img_data[:,:,1]"
   ]
  },
  {
   "cell_type": "code",
   "execution_count": 75,
   "id": "ab4b4579-9a85-4d70-95ea-75ff58a5913f",
   "metadata": {},
   "outputs": [
    {
     "data": {
      "text/plain": [
       "<matplotlib.image.AxesImage at 0x7a6178a59460>"
      ]
     },
     "execution_count": 75,
     "metadata": {},
     "output_type": "execute_result"
    },
    {
     "data": {
      "image/png": "[encoded data removed]",
      "text/plain": [
       "<Figure size 640x480 with 1 Axes>"
      ]
     },
     "metadata": {},
     "output_type": "display_data"
    }
   ],
   "source": [
    "plt.imshow(mid_slice_x.T, cmap='gray', origin='lower')\n"
   ]
  },
  {
   "cell_type": "code",
   "execution_count": null,
   "id": "ad776baa-5ef4-45f6-8d37-a769f7e51027",
   "metadata": {},
   "outputs": [],
   "source": []
  }
 ],
 "metadata": {
  "kernelspec": {
   "display_name": "Python 3 (ipykernel)",
   "language": "python",
   "name": "python3"
  },
  "language_info": {
   "codemirror_mode": {
    "name": "ipython",
    "version": 3
   },
   "file_extension": ".py",
   "mimetype": "text/x-python",
   "name": "python",
   "nbconvert_exporter": "python",
   "pygments_lexer": "ipython3",
   "version": "3.12.4"
  }
 },
 "nbformat": 4,
 "nbformat_minor": 5
}
